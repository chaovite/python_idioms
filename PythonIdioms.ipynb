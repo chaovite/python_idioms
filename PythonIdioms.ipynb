{
 "cells": [
  {
   "cell_type": "markdown",
   "metadata": {},
   "source": [
    "# Learn to write code as a Pythonian"
   ]
  },
  {
   "cell_type": "markdown",
   "metadata": {},
   "source": [
    "Long lines and continuation. Use implied line continuation inside parentheses/brackets/braces.<br> Use backslashes as a last resort."
   ]
  },
  {
   "cell_type": "code",
   "execution_count": 2,
   "metadata": {
    "collapsed": false
   },
   "outputs": [],
   "source": [
    "def example(first, second, third,\n",
    "            fourth, fifth):\n",
    "    \"\"\"line continuation example\"\"\"\n",
    "    output = (first + second + third\n",
    "              + fourth + fifth)\n",
    "    return output\n"
   ]
  },
  {
   "cell_type": "markdown",
   "metadata": {},
   "source": [
    "Backslashes are fragile; they must end the line they're on. If you add a space after the backslash, it won't work any more. Also, they're ugly."
   ]
  },
  {
   "cell_type": "code",
   "execution_count": 7,
   "metadata": {
    "collapsed": false
   },
   "outputs": [],
   "source": [
    "a = 1 + 2 + 3 + 4 + 5 + 6 + \\\n",
    "78912 + 997 + 2389 + 7843 + 877"
   ]
  },
  {
   "cell_type": "code",
   "execution_count": 8,
   "metadata": {
    "collapsed": false
   },
   "outputs": [
    {
     "name": "stdout",
     "output_type": "stream",
     "text": [
      "strsareconcatenated!\n"
     ]
    }
   ],
   "source": [
    "print('strs' 'are' 'concatenated!')"
   ]
  },
  {
   "cell_type": "markdown",
   "metadata": {},
   "source": [
    "## Swap values"
   ]
  },
  {
   "cell_type": "code",
   "execution_count": 11,
   "metadata": {
    "collapsed": false
   },
   "outputs": [
    {
     "name": "stdout",
     "output_type": "stream",
     "text": [
      "2 1\n"
     ]
    }
   ],
   "source": [
    "a = 1\n",
    "b = 2\n",
    "b, a = a, b\n",
    "print(a, b)"
   ]
  },
  {
   "cell_type": "markdown",
   "metadata": {},
   "source": [
    "## Unpacking\n",
    "Note that **comma** is the tuple constructor syntax."
   ]
  },
  {
   "cell_type": "code",
   "execution_count": 19,
   "metadata": {
    "collapsed": false
   },
   "outputs": [
    {
     "name": "stdout",
     "output_type": "stream",
     "text": [
      "(1,)\n"
     ]
    }
   ],
   "source": [
    "a= 1,\n",
    "print(a)"
   ]
  },
  {
   "cell_type": "code",
   "execution_count": 12,
   "metadata": {
    "collapsed": false
   },
   "outputs": [
    {
     "name": "stdout",
     "output_type": "stream",
     "text": [
      "David Pythonista +1-514-555-1234\n"
     ]
    }
   ],
   "source": [
    "l =['David', 'Pythonista', '+1-514-555-1234']\n",
    "name, title, number = l\n",
    "print(name, title, number)"
   ]
  },
  {
   "cell_type": "code",
   "execution_count": 26,
   "metadata": {
    "collapsed": false
   },
   "outputs": [
    {
     "name": "stdout",
     "output_type": "stream",
     "text": [
      "David Pythonista +1-514-555-1234\n",
      "Xie PHD some number\n",
      "['David', 'Pythonista', '+1-514-555-1234']\n"
     ]
    }
   ],
   "source": [
    "people = [l, ['Xie', 'PHD', 'some number']]\n",
    "for (name, title, number) in people:\n",
    "    print(name, title, number)\n",
    "\n",
    "david, (xname, xtitle, xphone) = people\n",
    "print(david)"
   ]
  },
  {
   "cell_type": "markdown",
   "metadata": {},
   "source": [
    "## Interactive \"_\"\n",
    "_ stores the last printed expression. This only works in the interactive interpreter, not within a module."
   ]
  },
  {
   "cell_type": "code",
   "execution_count": 27,
   "metadata": {
    "collapsed": false
   },
   "outputs": [
    {
     "data": {
      "text/plain": [
       "2"
      ]
     },
     "execution_count": 27,
     "metadata": {},
     "output_type": "execute_result"
    }
   ],
   "source": [
    "1+1"
   ]
  },
  {
   "cell_type": "code",
   "execution_count": 28,
   "metadata": {
    "collapsed": false
   },
   "outputs": [
    {
     "data": {
      "text/plain": [
       "2"
      ]
     },
     "execution_count": 28,
     "metadata": {},
     "output_type": "execute_result"
    }
   ],
   "source": [
    "_"
   ]
  },
  {
   "cell_type": "markdown",
   "metadata": {},
   "source": [
    "## Join strings from substrings"
   ]
  },
  {
   "cell_type": "markdown",
   "metadata": {},
   "source": [
    "#### Don't do this:\n",
    "This is very inefficient. It has terrible memory usage and performance patterns. The \"summation\" will compute, store, and then throw away each intermediate step."
   ]
  },
  {
   "cell_type": "code",
   "execution_count": 31,
   "metadata": {
    "collapsed": true
   },
   "outputs": [],
   "source": [
    "substrs = ['blue','yellow','red','white']\n",
    "strs = ''\n",
    "for s in substrs:\n",
    "    strs += s"
   ]
  },
  {
   "cell_type": "markdown",
   "metadata": {},
   "source": [
    "#### Do this:\n",
    "The join() string method does all the copying in one pass."
   ]
  },
  {
   "cell_type": "code",
   "execution_count": 39,
   "metadata": {
    "collapsed": false
   },
   "outputs": [
    {
     "name": "stdout",
     "output_type": "stream",
     "text": [
      "blueyellowredwhite\n",
      "blue yellow red white\n",
      "blue, yellow, red, white\n",
      "Choose blue, yellow, red or white\n"
     ]
    }
   ],
   "source": [
    "s = ''.join(substrs)\n",
    "print(s)\n",
    "s = ' '.join(substrs)\n",
    "print(s)\n",
    "s = ', '.join(substrs)\n",
    "print(s)\n",
    "print('Choose', ', '.join(substrs[:-1]), \\\n",
    "      'or', substrs[-1])"
   ]
  },
  {
   "cell_type": "markdown",
   "metadata": {},
   "source": [
    "## Use *in* where possible\n",
    "Good: <br>\n",
    "```\n",
    "for key in d:\n",
    "    print key\n",
    "```\n",
    "<br>\n",
    "**in** is generally faster.<br>\n",
    "This pattern also works for items in arbitrary containers (such as lists, tuples, and sets).<br>\n",
    "in is also an operator.<br>\n",
    "Bad: <br>\n",
    "```\n",
    "for key in d.keys():\n",
    "    print key\n",
    "```"
   ]
  },
  {
   "cell_type": "markdown",
   "metadata": {},
   "source": [
    "## Dictionary *get* Method"
   ]
  },
  {
   "cell_type": "markdown",
   "metadata": {},
   "source": [
    "We often have to initialize dictionary entries before use:\n",
    "\n",
    "This is the naïve way to do it:\n",
    "```\n",
    "navs = {}\n",
    "for (portfolio, equity, position) in data:\n",
    "    if portfolio not in navs:\n",
    "        navs[portfolio] = 0\n",
    "    navs[portfolio] += position * prices[equity]\n",
    "```\n",
    "\n",
    "dict.get(key, default) removes the need for the test:\n",
    "```\n",
    "navs = {}\n",
    "for (portfolio, equity, position) in data:\n",
    "    navs[portfolio] = (navs.get(portfolio, 0)\n",
    "                       + position * prices[equity])\n",
    "```"
   ]
  },
  {
   "cell_type": "markdown",
   "metadata": {},
   "source": [
    "## defaultdict\n",
    "defaultdict is new in Python 2.5, part of the collections module. defaultdict is identical to regular dictionaries, except for two things:\n",
    "\n",
    "* it takes an extra first argument: a default factory function;\n",
    "* when a dictionary key is encountered for the first time, the default factory function is called and the result used to initialize the dictionary value."
   ]
  },
  {
   "cell_type": "markdown",
   "metadata": {},
   "source": [
    "#### Example:\n",
    "```\n",
    "from collections import defaultdict\n",
    "\n",
    "equities = defaultdict(list)\n",
    "for (portfolio, equity) in data:\n",
    "    equities[portfolio].append(equity)\n",
    "    ```\n",
    "In this case, the default factory function is list, which returns an empty list."
   ]
  },
  {
   "cell_type": "markdown",
   "metadata": {},
   "source": [
    "## Building & Splitting Dictionaries"
   ]
  },
  {
   "cell_type": "code",
   "execution_count": 58,
   "metadata": {
    "collapsed": true
   },
   "outputs": [],
   "source": [
    "given = ['John', 'Eric', 'Terry', 'Michael']\n",
    "family = ['Cleese', 'Idle', 'Gilliam', 'Palin']"
   ]
  },
  {
   "cell_type": "code",
   "execution_count": 62,
   "metadata": {
    "collapsed": false
   },
   "outputs": [
    {
     "name": "stdout",
     "output_type": "stream",
     "text": [
      "<zip object at 0x106174ac8>\n",
      "{'Michael': 'Palin', 'Terry': 'Gilliam', 'Eric': 'Idle', 'John': 'Cleese'}\n"
     ]
    }
   ],
   "source": [
    "c = zip(given, family)\n",
    "d = dict(zip(given, family))\n",
    "print(d)"
   ]
  },
  {
   "cell_type": "markdown",
   "metadata": {},
   "source": [
    "##  Index & Item"
   ]
  },
  {
   "cell_type": "code",
   "execution_count": 64,
   "metadata": {
    "collapsed": true
   },
   "outputs": [],
   "source": [
    "items = 'zero one two three'.split()"
   ]
  },
  {
   "cell_type": "markdown",
   "metadata": {},
   "source": [
    "The enumerate a generator takes a list and returns (index, item) pairs one at a time"
   ]
  },
  {
   "cell_type": "code",
   "execution_count": 65,
   "metadata": {
    "collapsed": false
   },
   "outputs": [
    {
     "name": "stdout",
     "output_type": "stream",
     "text": [
      "[(0, 'zero'), (1, 'one'), (2, 'two'), (3, 'three')]\n"
     ]
    }
   ],
   "source": [
    "print(list(enumerate(items)))"
   ]
  },
  {
   "cell_type": "markdown",
   "metadata": {},
   "source": [
    "## List comprehension\n",
    "Use a list comprehension when a computed list is the desired end result.<br>\n",
    "Use a generator expression when the computed list is just an intermediate step."
   ]
  },
  {
   "cell_type": "code",
   "execution_count": 92,
   "metadata": {
    "collapsed": false
   },
   "outputs": [
    {
     "name": "stdout",
     "output_type": "stream",
     "text": [
      "285\n"
     ]
    }
   ],
   "source": [
    "a = [n ** 2 for n in range(10)] # list comprehension.\n",
    "print(sum(n ** 2 for n in range(10))) # generator comprehension."
   ]
  },
  {
   "cell_type": "markdown",
   "metadata": {},
   "source": [
    "## Importing\n",
    "\n",
    "```from module import *```<br>\n",
    "You've probably seen this \"wild card\" form of the import statement. You may even like it. **Don't use it.**\n",
    "\n",
    "To adapt a well-known exchange:\n",
    "\n",
    "(Exterior Dagobah, jungle, swamp, and mist.)\n",
    "\n",
    "LUKE: Is from module import * better than explicit imports?\n",
    "\n",
    "YODA: No, not better. Quicker, easier, more seductive.\n",
    "\n",
    "LUKE: But how will I know why explicit imports are better than the wild-card form?\n",
    "\n",
    "YODA: Know you will when your code you try to read six months from now.\n",
    "\n",
    "**Wild-card imports are from the dark side of Python.**\n",
    "\n",
    "The **from module import * ** wild-card style leads to namespace pollution. You'll get things in your local namespace that you didn't expect to get. You may see imported names obscuring module-defined local names. You won't be able to figure out where certain names come from. Although a convenient shortcut, this should not be in production code.\n",
    "\n",
    "**Moral: don't use wild-card imports!**"
   ]
  },
  {
   "cell_type": "markdown",
   "metadata": {},
   "source": [
    "## Modules & Scripts"
   ]
  },
  {
   "cell_type": "markdown",
   "metadata": {},
   "source": [
    "To make a simultaneously importable module and executable script:\n",
    "```\n",
    "if __name__ == '__main__':\n",
    "    # script code here\n",
    " ```\n",
    "When imported, a module's ```__name__``` attribute is set to the module's file name, without \".py\". So the code guarded by the if statement above will not run when imported. When executed as a script though, the ```__name__``` attribute is set to ```__main__```, and the script code will run.\n",
    "\n",
    "Except for special cases, you shouldn't put any major executable code at the top-level. Put code in functions, classes, methods, and guard it with if ```__name__ == '__main__'```."
   ]
  },
  {
   "cell_type": "markdown",
   "metadata": {},
   "source": [
    "## Module Structure"
   ]
  },
  {
   "cell_type": "markdown",
   "metadata": {},
   "source": [
    "This is how a module should be structured:\n",
    "```\n",
    "\"\"\"module docstring\"\"\"\n",
    "\n",
    "# imports\n",
    "# constants\n",
    "# exception classes\n",
    "# interface functions\n",
    "# classes\n",
    "# internal functions & classes\n",
    "\n",
    "def main(...):\n",
    "    ...\n",
    "\n",
    "if __name__ == '__main__':\n",
    "    status = main()\n",
    "    sys.exit(status)\n",
    "    \n",
    "```"
   ]
  },
  {
   "cell_type": "markdown",
   "metadata": {},
   "source": [
    "## Packages\n",
    "* Used to organize your project.\n",
    "* Reduces entries in load-path.\n",
    "* Reduces import name conflicts.\n",
    "\n",
    "Example:\n",
    "```\n",
    "package/\n",
    "    __init__.py\n",
    "    module1.py\n",
    "    subpackage/\n",
    "        __init__.py\n",
    "        module2.py\n",
    "```\n",
    "<br>\n",
    "When importing, do:\n",
    "```\n",
    "import package.module1\n",
    "from package.subpackage import module2\n",
    "from package.subpackage.module2 import name\n",
    "```"
   ]
  }
 ],
 "metadata": {
  "anaconda-cloud": {},
  "kernelspec": {
   "display_name": "Python [Root]",
   "language": "python",
   "name": "Python [Root]"
  },
  "language_info": {
   "codemirror_mode": {
    "name": "ipython",
    "version": 3
   },
   "file_extension": ".py",
   "mimetype": "text/x-python",
   "name": "python",
   "nbconvert_exporter": "python",
   "pygments_lexer": "ipython3",
   "version": "3.5.2"
  }
 },
 "nbformat": 4,
 "nbformat_minor": 0
}
